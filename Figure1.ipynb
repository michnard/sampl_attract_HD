{
 "cells": [
  {
   "cell_type": "markdown",
   "metadata": {},
   "source": [
    "# Combining Sampling Methods with Attractor Dynamics in Spiking Models of Head-Direction Systems\n",
    "## by Vojko Pjanovic, Jacob Zavatone-Veth, Paul Masset, Sander Keemink & Michele Nardin. \n",
    "\n",
    "Code written by Vojko Pjanovic and Michele Nardin.\n",
    "\n",
    "This notebook includes the code for Fig. 1 panels B and C."
   ]
  },
  {
   "cell_type": "markdown",
   "metadata": {},
   "source": [
    "### Panel B: \n",
    "#### For increasing noise levels on the encoding of the angular velocity, the posterior distribution 𝑃 (𝜔𝑡 |𝝈𝑡 ) will show more and more uncertainty. \n",
    " \n",
    "The posterior over Poisson spikes is a Gumbel distribution: \n",
    "$P(\\omega_t | \\sigma_t) \\propto e^{-e^{\\beta \\omega_t}}e^{\\beta \\omega_t \\sigma_t}$"
   ]
  },
  {
   "cell_type": "code",
   "execution_count": 20,
   "metadata": {},
   "outputs": [
    {
     "data": {
      "text/plain": [
       "16"
      ]
     },
     "execution_count": 20,
     "metadata": {},
     "output_type": "execute_result"
    }
   ],
   "source": [
    "np.random.poisson(10)"
   ]
  },
  {
   "cell_type": "code",
   "execution_count": 27,
   "metadata": {},
   "outputs": [
    {
     "data": {
      "image/png": "[encoded data removed]",
      "text/plain": [
       "<Figure size 200x200 with 1 Axes>"
      ]
     },
     "metadata": {},
     "output_type": "display_data"
    },
    {
     "data": {
      "image/png": "[encoded data removed]",
      "text/plain": [
       "<Figure size 200x200 with 1 Axes>"
      ]
     },
     "metadata": {},
     "output_type": "display_data"
    },
    {
     "data": {
      "image/png": "[encoded data removed]",
      "text/plain": [
       "<Figure size 200x200 with 1 Axes>"
      ]
     },
     "metadata": {},
     "output_type": "display_data"
    }
   ],
   "source": [
    "import numpy as np\n",
    "import matplotlib.pyplot as plt\n",
    "\n",
    "# plot pdf of gumbel distribution\n",
    "omega = 1\n",
    "np.random.seed(0)\n",
    "for beta in [0.5, 1, 3]:\n",
    "    sigma = np.random.poisson(np.exp(beta*omega))\n",
    "    x = np.linspace(-3,5,1000)\n",
    "    plt.figure(figsize=(2,2))\n",
    "    y = np.exp(beta*sigma*x - np.exp(beta*x))\n",
    "    plt.plot(x,y)\n",
    "    plt.axis('off')\n",
    "    plt.show()"
   ]
  },
  {
   "cell_type": "markdown",
   "metadata": {},
   "source": [
    " ### Panel C: \n",
    " #### Estimating true density and statistics through sampling (colorful arrows: samples, grey line: samples histogram, blue line: true distribution)."
   ]
  },
  {
   "cell_type": "code",
   "execution_count": 30,
   "metadata": {},
   "outputs": [
    {
     "data": {
      "text/plain": [
       "(array([0.        , 0.14583333, 0.4375    , 0.21875   , 0.        ,\n",
       "        0.07291667, 0.        ]),\n",
       " array([-3.        , -1.85714286, -0.71428571,  0.42857143,  1.57142857,\n",
       "         2.71428571,  3.85714286,  5.        ]),\n",
       " [<matplotlib.patches.Polygon at 0x71bab818e0a0>])"
      ]
     },
     "execution_count": 30,
     "metadata": {},
     "output_type": "execute_result"
    },
    {
     "data": {
      "image/png": "[encoded data removed]",
      "text/plain": [
       "<Figure size 200x200 with 1 Axes>"
      ]
     },
     "metadata": {},
     "output_type": "display_data"
    }
   ],
   "source": [
    "# sample 20 samples from gumbel distribution with beta = 1\n",
    "# then plot these samples as small arrows, each of different color, on the x axis\n",
    "np.random.seed(13)\n",
    "samples = np.random.gumbel(0,1,12)\n",
    "plt.figure(figsize=(2,2))\n",
    "\n",
    "# plot pdf first\n",
    "x = np.linspace(-3,5,1000)\n",
    "y = np.exp(-x - np.exp(-x))\n",
    "plt.plot(x,y,label='true density')\n",
    "\n",
    "plt.plot(np.linspace(-3,5,1000),np.zeros(1000),'k')\n",
    "for i,sample in enumerate(samples):\n",
    "    plt.arrow(sample,-0.11,0,0.1,color=plt.cm.viridis(i/len(samples)),head_width=0.1,head_length=0.01,label='sample '+str(i))\n",
    "plt.axis('off')\n",
    "\n",
    "# plot the hist\n",
    "plt.hist(samples,bins=np.linspace(-3,5,8),density=True,color='k',histtype='step',label='samples hist.',alpha=0.5)"
   ]
  }
 ],
 "metadata": {
  "kernelspec": {
   "display_name": "base",
   "language": "python",
   "name": "python3"
  },
  "language_info": {
   "codemirror_mode": {
    "name": "ipython",
    "version": 3
   },
   "file_extension": ".py",
   "mimetype": "text/x-python",
   "name": "python",
   "nbconvert_exporter": "python",
   "pygments_lexer": "ipython3",
   "version": "3.9.13"
  }
 },
 "nbformat": 4,
 "nbformat_minor": 2
}
